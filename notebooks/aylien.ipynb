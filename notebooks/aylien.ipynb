{
 "cells": [
  {
   "cell_type": "code",
   "execution_count": 16,
   "metadata": {
    "collapsed": true
   },
   "outputs": [],
   "source": [
    "import aylien_news_api\n",
    "from aylien_news_api.rest import ApiException\n",
    "from pprint import pprint\n",
    "import copy\n",
    "import dotenv\n",
    "import json\n",
    "import time\n",
    "import requests"
   ]
  },
  {
   "cell_type": "code",
   "execution_count": 17,
   "metadata": {},
   "outputs": [],
   "source": [
    "# Configure API key authorization: app_id\n",
    "app_id = dotenv.get_key('../.env', 'AYLIEN_APP_ID')\n",
    "app_key = dotenv.get_key('../.env', 'AYLIEN_APP_KEY')\n",
    "endpoint = dotenv.get_key('../.env', 'AYLIEN_ENDPOINT')\n",
    "\n",
    "configuration = aylien_news_api.Configuration()\n",
    "configuration.api_key['X-AYLIEN-NewsAPI-Application-ID'] = app_id\n",
    "configuration.api_key['X-AYLIEN-NewsAPI-Application-Key'] = app_key\n",
    "configuration.host = endpoint\n",
    "\n",
    "num_docs = 1"
   ]
  },
  {
   "cell_type": "code",
   "execution_count": 18,
   "metadata": {},
   "outputs": [],
   "source": [
    "client = aylien_news_api.ApiClient(configuration)\n",
    "api_instance = aylien_news_api.DefaultApi(client)"
   ]
  },
  {
   "cell_type": "code",
   "execution_count": 26,
   "metadata": {},
   "outputs": [],
   "source": [
    "# Fetch stories using AYLIEN News API\n",
    "def fetch_stories(opts, limit=None, append_to=None):\n",
    "    fetched_stories = []\n",
    "    stories = None\n",
    "\n",
    "    while stories is None or len(stories) == (opts.get('per_page') or num_docs):\n",
    "        if limit and len(fetched_stories) >= limit:\n",
    "            return fetched_stories\n",
    "        try:\n",
    "            response = api_instance.list_stories(**opts)\n",
    "        except ApiException as e:\n",
    "            if e.status == 429:\n",
    "                if int(e.headers['x-ratelimit-volume-remaining']) == 0:\n",
    "                    reset = e.headers('x-ratelimit-volume-reset')\n",
    "                    print('Monthly rate limit exceeded. Wait until reset at %s' % reset)\n",
    "                    return fetched_stories\n",
    "                if int(e.headers['x-ratelimit-remaining']) == 0:\n",
    "                    print('1-Minute rate limit exceeded. Waiting 60 seconds...')\n",
    "                    time.sleep(60)\n",
    "                    continue\n",
    "            print(\"Exception when calling DefaultApi->list_stories: %s\\n\" % e)\n",
    "            return fetched_stories\n",
    "\n",
    "        if append_to:\n",
    "            with open(append_to, 'a') as f:\n",
    "                try:\n",
    "                    json.dump(map(lambda x: {'body': x.body, 'date': x.published_at, 'datetime': x.published_datetime, 'instance_id': x.id, 'sentiment': x.sentiment}, response.stories), f, indent=4)\n",
    "                except Exception as e:\n",
    "                    print(e)\n",
    "\n",
    "        stories = response.stories\n",
    "        opts['cursor'] = response.next_page_cursor\n",
    "\n",
    "        fetched_stories += stories\n",
    "        print(f'Fetched {len(stories)} stories. Total: {len(fetched_stories)} so far.')\n",
    "\n",
    "    return fetched_stories\n",
    "\n",
    "# Alternate: Fetch stories using pure HTTP requests\n",
    "def fetch_news(api_id, api_key, opts):\n",
    "    base_url = 'https://api.aylien.com/news/stories'\n",
    "    headers = {\n",
    "        'X-AYLIEN-NewsAPI-Application-ID': api_id,\n",
    "        'X-AYLIEN-NewsAPI-Application-Key': api_key\n",
    "    }\n",
    "    params = {\n",
    "        'published_at.start': opts['published_at_start'],\n",
    "        'published_at.end': opts['published_at_end'],\n",
    "        # 'source_locations.country': ','.join(opts['source_locations_country']),\n",
    "        # 'language': ','.join(opts['language']),\n",
    "        'sort_by': opts['sort_by'],\n",
    "        # 'sort_direction': opts['sort_direction'],\n",
    "        'per_page': opts['per_page'],\n",
    "    }\n",
    "    if 'aql' in opts:\n",
    "        params['aql'] = opts['aql']\n",
    "    elif 'text' in opts:\n",
    "        params['text'] = opts['text']\n",
    "\n",
    "    response = requests.get(base_url, headers=headers, params=params)\n",
    "\n",
    "    if response.status_code == 200:\n",
    "        return response.json()\n",
    "    else:\n",
    "        print(f\"Error when calling AYLIEN News API: {response.status_code}, {response.text}\")\n",
    "        return None"
   ]
  },
  {
   "cell_type": "code",
   "execution_count": 20,
   "metadata": {},
   "outputs": [],
   "source": [
    "# generate AYLIEN Query Language (AQL, based on Lucene) query from keywords\n",
    "keywords_file = '../models/story_keywords.txt'\n",
    "with open(keywords_file, 'r') as f:\n",
    "    keywords = f.read().splitlines()\n",
    "\n",
    "climate_keywords_aql = 'text:(' + ' OR '.join([f'\"{keyword}\"' for keyword in keywords]) + ')'\n",
    "\n",
    "# generate AQL query from bill info\n",
    "bill_data_file = '../data/bill_data.json'\n",
    "with open(bill_data_file, 'r') as f:\n",
    "    bill_data = json.load(f)\n",
    "\n",
    "bill_aql_tuples = [(f'\"{bill[\"short_title\"]}\"', f'\"{bill[\"bill_number\"]}\"') for bill in bill_data.values()]\n",
    "half = len(bill_aql_tuples) // 2\n",
    "\n",
    "bill_aql_1 = 'text:(' + ' OR '.join([st + ' OR ' + bn for st, bn in bill_aql_tuples[:half]]) + ')'\n",
    "bill_aql_2 = 'text:(' + ' OR '.join([st + ' OR ' + bn for st, bn in bill_aql_tuples[half:]]) + ')'"
   ]
  },
  {
   "cell_type": "code",
   "execution_count": 21,
   "metadata": {},
   "outputs": [],
   "source": [
    "# set options\n",
    "opts_1 = {\n",
    "    'aql': bill_aql_1,\n",
    "    'published_at_start': 'NOW-27MONTH',\n",
    "    'published_at_end': 'NOW-1DAY',\n",
    "    'source_locations_country': ['US'],\n",
    "    'language': ['en'],\n",
    "    'sort_by': 'relevance',\n",
    "    # 'sort_direction': 'asc',\n",
    "    'per_page': num_docs,\n",
    "}\n",
    "\n",
    "opts_2 = copy.deepcopy(opts_1)\n",
    "opts_2['aql'] = bill_aql_2"
   ]
  },
  {
   "cell_type": "code",
   "execution_count": null,
   "metadata": {
    "pycharm": {
     "is_executing": true
    }
   },
   "outputs": [],
   "source": [
    "fetched = fetch_stories(opts_1, limit=num_docs , append_to='../data/fetched_stories.json')"
   ]
  },
  {
   "cell_type": "code",
   "execution_count": 51,
   "metadata": {},
   "outputs": [],
   "source": [
    "def serializer(obj):\n",
    "    if isinstance(obj, aylien_news_api.models.story.Story):\n",
    "        return obj.to_dict()\n",
    "    else:\n",
    "        return str(obj)\n",
    "\n",
    "with open('test.json', 'w') as f:\n",
    "    json.dump(fetched, f, default=serializer, indent=4)"
   ]
  }
 ],
 "metadata": {
  "kernelspec": {
   "display_name": "Python 3 (ipykernel)",
   "language": "python",
   "name": "python3"
  },
  "language_info": {
   "codemirror_mode": {
    "name": "ipython",
    "version": 3
   },
   "file_extension": ".py",
   "mimetype": "text/x-python",
   "name": "python",
   "nbconvert_exporter": "python",
   "pygments_lexer": "ipython3",
   "version": "3.10.9"
  }
 },
 "nbformat": 4,
 "nbformat_minor": 1
}
