{
 "cells": [
  {
   "cell_type": "code",
   "execution_count": 35,
   "metadata": {
    "collapsed": true
   },
   "outputs": [],
   "source": [
    "import aylien_news_api\n",
    "from aylien_news_api.rest import ApiException\n",
    "from pprint import pprint\n",
    "import copy\n",
    "import dotenv\n",
    "import json\n",
    "import time\n",
    "import requests"
   ]
  },
  {
   "cell_type": "code",
   "execution_count": 2,
   "outputs": [],
   "source": [
    "# Configure API key authorization: app_id\n",
    "app_id = dotenv.get_key('../.env', 'AYLIEN_APP_ID')\n",
    "app_key = dotenv.get_key('../.env', 'AYLIEN_APP_KEY')\n",
    "endpoint = dotenv.get_key('../.env', 'AYLIEN_ENDPOINT')\n",
    "\n",
    "configuration = aylien_news_api.Configuration()\n",
    "configuration.api_key['X-AYLIEN-NewsAPI-Application-ID'] = app_id\n",
    "configuration.api_key['X-AYLIEN-NewsAPI-Application-Key'] = app_key\n",
    "configuration.host = endpoint"
   ],
   "metadata": {
    "collapsed": false
   }
  },
  {
   "cell_type": "code",
   "execution_count": 3,
   "outputs": [],
   "source": [
    "client = aylien_news_api.ApiClient(configuration)\n",
    "api_instance = aylien_news_api.DefaultApi(client)"
   ],
   "metadata": {
    "collapsed": false
   }
  },
  {
   "cell_type": "code",
   "execution_count": 46,
   "outputs": [],
   "source": [
    "# Fetch stories using AYLIEN News API\n",
    "def fetch_stories(opts, limit=None, append_to=None):\n",
    "    fetched_stories = []\n",
    "    stories = None\n",
    "\n",
    "    while stories is None or len(stories) == (opts.get('per_page') or 100):\n",
    "        if limit and len(fetched_stories) >= limit:\n",
    "            return fetched_stories\n",
    "        try:\n",
    "            response = api_instance.list_stories(**opts)\n",
    "        except ApiException as e:\n",
    "            if e.status == 429:\n",
    "                if int(e.headers['x-ratelimit-volume-remaining']) == 0:\n",
    "                    reset = e.headers('x-ratelimit-volume-reset')\n",
    "                    print('Monthly rate limit exceeded. Wait until reset at %s' % reset)\n",
    "                    return fetched_stories\n",
    "                if int(e.headers['x-ratelimit-remaining']) == 0:\n",
    "                    print('1-Minute rate limit exceeded. Waiting 60 seconds...')\n",
    "                    time.sleep(60)\n",
    "                    continue\n",
    "            print(\"Exception when calling DefaultApi->list_stories: %s\\n\" % e)\n",
    "            return fetched_stories\n",
    "\n",
    "        if append_to:\n",
    "            with open(append_to, 'a') as f:\n",
    "                json.dump(map(lambda x: x.to_dict(), response.stories), f, indent=4)\n",
    "\n",
    "        stories = response.stories\n",
    "        opts['cursor'] = response.next_page_cursor\n",
    "\n",
    "        fetched_stories += stories\n",
    "        print(f'Fetched {len(stories)} stories. Total: {len(fetched_stories)} so far.')\n",
    "\n",
    "    return fetched_stories\n",
    "\n",
    "# Alternate: Fetch stories using pure HTTP requests\n",
    "def fetch_news(api_id, api_key, opts):\n",
    "    base_url = 'https://api.aylien.com/news/stories'\n",
    "    headers = {\n",
    "        'X-AYLIEN-NewsAPI-Application-ID': api_id,\n",
    "        'X-AYLIEN-NewsAPI-Application-Key': api_key\n",
    "    }\n",
    "    params = {\n",
    "        'published_at.start': opts['published_at_start'],\n",
    "        'published_at.end': opts['published_at_end'],\n",
    "        # 'source_locations.country': ','.join(opts['source_locations_country']),\n",
    "        # 'language': ','.join(opts['language']),\n",
    "        'sort_by': opts['sort_by'],\n",
    "        # 'sort_direction': opts['sort_direction'],\n",
    "        'per_page': opts['per_page'],\n",
    "    }\n",
    "    if 'aql' in opts:\n",
    "        params['aql'] = opts['aql']\n",
    "    elif 'text' in opts:\n",
    "        params['text'] = opts['text']\n",
    "\n",
    "    response = requests.get(base_url, headers=headers, params=params)\n",
    "\n",
    "    if response.status_code == 200:\n",
    "        return response.json()\n",
    "    else:\n",
    "        print(f\"Error when calling AYLIEN News API: {response.status_code}, {response.text}\")\n",
    "        return None"
   ],
   "metadata": {
    "collapsed": false
   }
  },
  {
   "cell_type": "code",
   "execution_count": 30,
   "outputs": [],
   "source": [
    "# generate AYLIEN Query Language (AQL, based on Lucene) query from keywords\n",
    "keywords_file = '../models/story_keywords.txt'\n",
    "with open(keywords_file, 'r') as f:\n",
    "    keywords = f.read().splitlines()\n",
    "\n",
    "climate_keywords_aql = 'text:(' + ' OR '.join([f'\"{keyword}\"' for keyword in keywords]) + ')'\n",
    "\n",
    "# generate AQL query from bill info\n",
    "bill_data_file = '../data/bill_data.json'\n",
    "with open(bill_data_file, 'r') as f:\n",
    "    bill_data = json.load(f)\n",
    "\n",
    "bill_aql_tuples = [(f'\"{bill[\"short_title\"]}\"', f'\"{bill[\"bill_number\"]}\"') for bill in bill_data.values()]\n",
    "half = len(bill_aql_tuples) // 2\n",
    "\n",
    "bill_aql_1 = 'text:(' + ' OR '.join([st + ' OR ' + bn for st, bn in bill_aql_tuples[:half]]) + ')'\n",
    "bill_aql_2 = 'text:(' + ' OR '.join([st + ' OR ' + bn for st, bn in bill_aql_tuples[half:]]) + ')'"
   ],
   "metadata": {
    "collapsed": false
   }
  },
  {
   "cell_type": "code",
   "execution_count": 44,
   "outputs": [],
   "source": [
    "# set options\n",
    "opts_1 = {\n",
    "    'aql': bill_aql_1,\n",
    "    'published_at_start': 'NOW-27MONTH',\n",
    "    'published_at_end': 'NOW-1DAY',\n",
    "    'source_locations_country': ['US'],\n",
    "    'language': ['en'],\n",
    "    'sort_by': 'relevance',\n",
    "    # 'sort_direction': 'asc',\n",
    "    'per_page': 100,\n",
    "}\n",
    "\n",
    "opts_2 = copy.deepcopy(opts_1)\n",
    "opts_2['aql'] = bill_aql_2"
   ],
   "metadata": {
    "collapsed": false
   }
  },
  {
   "cell_type": "code",
   "execution_count": 45,
   "outputs": [
    {
     "ename": "TypeError",
     "evalue": "Object of type Story is not JSON serializable",
     "output_type": "error",
     "traceback": [
      "\u001B[0;31m---------------------------------------------------------------------------\u001B[0m",
      "\u001B[0;31mTypeError\u001B[0m                                 Traceback (most recent call last)",
      "Cell \u001B[0;32mIn[45], line 1\u001B[0m\n\u001B[0;32m----> 1\u001B[0m fetched \u001B[38;5;241m=\u001B[39m \u001B[43mfetch_stories\u001B[49m\u001B[43m(\u001B[49m\u001B[43mopts_1\u001B[49m\u001B[43m,\u001B[49m\u001B[43m \u001B[49m\u001B[43mlimit\u001B[49m\u001B[38;5;241;43m=\u001B[39;49m\u001B[38;5;241;43m100\u001B[39;49m\u001B[43m \u001B[49m\u001B[43m,\u001B[49m\u001B[43m \u001B[49m\u001B[43mappend_to\u001B[49m\u001B[38;5;241;43m=\u001B[39;49m\u001B[38;5;124;43m'\u001B[39;49m\u001B[38;5;124;43m../data/fetched_stories.json\u001B[39;49m\u001B[38;5;124;43m'\u001B[39;49m\u001B[43m)\u001B[49m\n",
      "Cell \u001B[0;32mIn[20], line 26\u001B[0m, in \u001B[0;36mfetch_stories\u001B[0;34m(opts, limit, append_to)\u001B[0m\n\u001B[1;32m     24\u001B[0m \u001B[38;5;28;01mif\u001B[39;00m append_to:\n\u001B[1;32m     25\u001B[0m     \u001B[38;5;28;01mwith\u001B[39;00m \u001B[38;5;28mopen\u001B[39m(append_to, \u001B[38;5;124m'\u001B[39m\u001B[38;5;124ma\u001B[39m\u001B[38;5;124m'\u001B[39m) \u001B[38;5;28;01mas\u001B[39;00m f:\n\u001B[0;32m---> 26\u001B[0m         \u001B[43mjson\u001B[49m\u001B[38;5;241;43m.\u001B[39;49m\u001B[43mdump\u001B[49m\u001B[43m(\u001B[49m\u001B[43mresponse\u001B[49m\u001B[38;5;241;43m.\u001B[39;49m\u001B[43mstories\u001B[49m\u001B[43m,\u001B[49m\u001B[43m \u001B[49m\u001B[43mf\u001B[49m\u001B[43m,\u001B[49m\u001B[43m \u001B[49m\u001B[43mindent\u001B[49m\u001B[38;5;241;43m=\u001B[39;49m\u001B[38;5;241;43m4\u001B[39;49m\u001B[43m)\u001B[49m\n\u001B[1;32m     28\u001B[0m stories \u001B[38;5;241m=\u001B[39m response\u001B[38;5;241m.\u001B[39mstories\n\u001B[1;32m     29\u001B[0m opts[\u001B[38;5;124m'\u001B[39m\u001B[38;5;124mcursor\u001B[39m\u001B[38;5;124m'\u001B[39m] \u001B[38;5;241m=\u001B[39m response\u001B[38;5;241m.\u001B[39mnext_page_cursor\n",
      "File \u001B[0;32m/usr/local/Caskroom/miniforge/base/envs/climate-policy/lib/python3.10/json/__init__.py:179\u001B[0m, in \u001B[0;36mdump\u001B[0;34m(obj, fp, skipkeys, ensure_ascii, check_circular, allow_nan, cls, indent, separators, default, sort_keys, **kw)\u001B[0m\n\u001B[1;32m    173\u001B[0m     iterable \u001B[38;5;241m=\u001B[39m \u001B[38;5;28mcls\u001B[39m(skipkeys\u001B[38;5;241m=\u001B[39mskipkeys, ensure_ascii\u001B[38;5;241m=\u001B[39mensure_ascii,\n\u001B[1;32m    174\u001B[0m         check_circular\u001B[38;5;241m=\u001B[39mcheck_circular, allow_nan\u001B[38;5;241m=\u001B[39mallow_nan, indent\u001B[38;5;241m=\u001B[39mindent,\n\u001B[1;32m    175\u001B[0m         separators\u001B[38;5;241m=\u001B[39mseparators,\n\u001B[1;32m    176\u001B[0m         default\u001B[38;5;241m=\u001B[39mdefault, sort_keys\u001B[38;5;241m=\u001B[39msort_keys, \u001B[38;5;241m*\u001B[39m\u001B[38;5;241m*\u001B[39mkw)\u001B[38;5;241m.\u001B[39miterencode(obj)\n\u001B[1;32m    177\u001B[0m \u001B[38;5;66;03m# could accelerate with writelines in some versions of Python, at\u001B[39;00m\n\u001B[1;32m    178\u001B[0m \u001B[38;5;66;03m# a debuggability cost\u001B[39;00m\n\u001B[0;32m--> 179\u001B[0m \u001B[38;5;28;01mfor\u001B[39;00m chunk \u001B[38;5;129;01min\u001B[39;00m iterable:\n\u001B[1;32m    180\u001B[0m     fp\u001B[38;5;241m.\u001B[39mwrite(chunk)\n",
      "File \u001B[0;32m/usr/local/Caskroom/miniforge/base/envs/climate-policy/lib/python3.10/json/encoder.py:429\u001B[0m, in \u001B[0;36m_make_iterencode.<locals>._iterencode\u001B[0;34m(o, _current_indent_level)\u001B[0m\n\u001B[1;32m    427\u001B[0m     \u001B[38;5;28;01myield\u001B[39;00m _floatstr(o)\n\u001B[1;32m    428\u001B[0m \u001B[38;5;28;01melif\u001B[39;00m \u001B[38;5;28misinstance\u001B[39m(o, (\u001B[38;5;28mlist\u001B[39m, \u001B[38;5;28mtuple\u001B[39m)):\n\u001B[0;32m--> 429\u001B[0m     \u001B[38;5;28;01myield from\u001B[39;00m _iterencode_list(o, _current_indent_level)\n\u001B[1;32m    430\u001B[0m \u001B[38;5;28;01melif\u001B[39;00m \u001B[38;5;28misinstance\u001B[39m(o, \u001B[38;5;28mdict\u001B[39m):\n\u001B[1;32m    431\u001B[0m     \u001B[38;5;28;01myield from\u001B[39;00m _iterencode_dict(o, _current_indent_level)\n",
      "File \u001B[0;32m/usr/local/Caskroom/miniforge/base/envs/climate-policy/lib/python3.10/json/encoder.py:325\u001B[0m, in \u001B[0;36m_make_iterencode.<locals>._iterencode_list\u001B[0;34m(lst, _current_indent_level)\u001B[0m\n\u001B[1;32m    323\u001B[0m         \u001B[38;5;28;01melse\u001B[39;00m:\n\u001B[1;32m    324\u001B[0m             chunks \u001B[38;5;241m=\u001B[39m _iterencode(value, _current_indent_level)\n\u001B[0;32m--> 325\u001B[0m         \u001B[38;5;28;01myield from\u001B[39;00m chunks\n\u001B[1;32m    326\u001B[0m \u001B[38;5;28;01mif\u001B[39;00m newline_indent \u001B[38;5;129;01mis\u001B[39;00m \u001B[38;5;129;01mnot\u001B[39;00m \u001B[38;5;28;01mNone\u001B[39;00m:\n\u001B[1;32m    327\u001B[0m     _current_indent_level \u001B[38;5;241m-\u001B[39m\u001B[38;5;241m=\u001B[39m \u001B[38;5;241m1\u001B[39m\n",
      "File \u001B[0;32m/usr/local/Caskroom/miniforge/base/envs/climate-policy/lib/python3.10/json/encoder.py:438\u001B[0m, in \u001B[0;36m_make_iterencode.<locals>._iterencode\u001B[0;34m(o, _current_indent_level)\u001B[0m\n\u001B[1;32m    436\u001B[0m         \u001B[38;5;28;01mraise\u001B[39;00m \u001B[38;5;167;01mValueError\u001B[39;00m(\u001B[38;5;124m\"\u001B[39m\u001B[38;5;124mCircular reference detected\u001B[39m\u001B[38;5;124m\"\u001B[39m)\n\u001B[1;32m    437\u001B[0m     markers[markerid] \u001B[38;5;241m=\u001B[39m o\n\u001B[0;32m--> 438\u001B[0m o \u001B[38;5;241m=\u001B[39m \u001B[43m_default\u001B[49m\u001B[43m(\u001B[49m\u001B[43mo\u001B[49m\u001B[43m)\u001B[49m\n\u001B[1;32m    439\u001B[0m \u001B[38;5;28;01myield from\u001B[39;00m _iterencode(o, _current_indent_level)\n\u001B[1;32m    440\u001B[0m \u001B[38;5;28;01mif\u001B[39;00m markers \u001B[38;5;129;01mis\u001B[39;00m \u001B[38;5;129;01mnot\u001B[39;00m \u001B[38;5;28;01mNone\u001B[39;00m:\n",
      "File \u001B[0;32m/usr/local/Caskroom/miniforge/base/envs/climate-policy/lib/python3.10/json/encoder.py:179\u001B[0m, in \u001B[0;36mJSONEncoder.default\u001B[0;34m(self, o)\u001B[0m\n\u001B[1;32m    160\u001B[0m \u001B[38;5;28;01mdef\u001B[39;00m \u001B[38;5;21mdefault\u001B[39m(\u001B[38;5;28mself\u001B[39m, o):\n\u001B[1;32m    161\u001B[0m \u001B[38;5;250m    \u001B[39m\u001B[38;5;124;03m\"\"\"Implement this method in a subclass such that it returns\u001B[39;00m\n\u001B[1;32m    162\u001B[0m \u001B[38;5;124;03m    a serializable object for ``o``, or calls the base implementation\u001B[39;00m\n\u001B[1;32m    163\u001B[0m \u001B[38;5;124;03m    (to raise a ``TypeError``).\u001B[39;00m\n\u001B[0;32m   (...)\u001B[0m\n\u001B[1;32m    177\u001B[0m \n\u001B[1;32m    178\u001B[0m \u001B[38;5;124;03m    \"\"\"\u001B[39;00m\n\u001B[0;32m--> 179\u001B[0m     \u001B[38;5;28;01mraise\u001B[39;00m \u001B[38;5;167;01mTypeError\u001B[39;00m(\u001B[38;5;124mf\u001B[39m\u001B[38;5;124m'\u001B[39m\u001B[38;5;124mObject of type \u001B[39m\u001B[38;5;132;01m{\u001B[39;00mo\u001B[38;5;241m.\u001B[39m\u001B[38;5;18m__class__\u001B[39m\u001B[38;5;241m.\u001B[39m\u001B[38;5;18m__name__\u001B[39m\u001B[38;5;132;01m}\u001B[39;00m\u001B[38;5;124m \u001B[39m\u001B[38;5;124m'\u001B[39m\n\u001B[1;32m    180\u001B[0m                     \u001B[38;5;124mf\u001B[39m\u001B[38;5;124m'\u001B[39m\u001B[38;5;124mis not JSON serializable\u001B[39m\u001B[38;5;124m'\u001B[39m)\n",
      "\u001B[0;31mTypeError\u001B[0m: Object of type Story is not JSON serializable"
     ]
    }
   ],
   "source": [
    "fetched = fetch_stories(opts_1, limit=100 , append_to='../data/fetched_stories.json')"
   ],
   "metadata": {
    "collapsed": false
   }
  },
  {
   "cell_type": "code",
   "execution_count": 51,
   "outputs": [],
   "source": [
    "def serializer(obj):\n",
    "    if isinstance(obj, aylien_news_api.models.story.Story):\n",
    "        return obj.to_dict()\n",
    "    else:\n",
    "        return str(obj)\n",
    "\n",
    "with open('test.json', 'w') as f:\n",
    "    json.dump(fetched, f, default=serializer, indent=4)"
   ],
   "metadata": {
    "collapsed": false
   }
  }
 ],
 "metadata": {
  "kernelspec": {
   "display_name": "Python 3",
   "language": "python",
   "name": "python3"
  },
  "language_info": {
   "codemirror_mode": {
    "name": "ipython",
    "version": 2
   },
   "file_extension": ".py",
   "mimetype": "text/x-python",
   "name": "python",
   "nbconvert_exporter": "python",
   "pygments_lexer": "ipython2",
   "version": "2.7.6"
  }
 },
 "nbformat": 4,
 "nbformat_minor": 0
}
