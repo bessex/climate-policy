{
 "cells": [
  {
   "cell_type": "markdown",
   "source": [],
   "metadata": {
    "collapsed": false
   }
  },
  {
   "cell_type": "code",
   "execution_count": 21,
   "outputs": [],
   "source": [
    "import dotenv\n",
    "from datetime import datetime\n",
    "import json\n",
    "import os\n",
    "import sys\n",
    "from time import mktime"
   ],
   "metadata": {
    "collapsed": false,
    "ExecuteTime": {
     "start_time": "2023-04-11T19:32:10.796555Z",
     "end_time": "2023-04-11T19:32:10.800068Z"
    }
   }
  },
  {
   "cell_type": "code",
   "execution_count": 22,
   "outputs": [],
   "source": [
    "# Get the absolute path to the parent directory (the root directory of your project)\n",
    "project_root = os.path.abspath(os.path.join(os.getcwd(), os.pardir))\n",
    "\n",
    "# Add the project root to sys.path\n",
    "sys.path.insert(0, project_root)\n",
    "\n",
    "# Use an absolute import to import CDGClient from the utils.cdg_client.cdg_client module\n",
    "from utils.cdg_client.cdg_client import CDGClient\n",
    "import congress\n",
    "\n",
    "\n",
    "loc_api_key = dotenv.get_key('../.env', 'LOC_API_KEY')\n",
    "pc_api_key = dotenv.get_key('../.env', 'CONGRESS_API_KEY')\n",
    "\n",
    "pc_client = congress.Congress(pc_api_key, cache='../.cache')\n",
    "loc_client = CDGClient(loc_api_key)"
   ],
   "metadata": {
    "collapsed": false,
    "ExecuteTime": {
     "start_time": "2023-04-11T19:32:11.293908Z",
     "end_time": "2023-04-11T19:32:11.314517Z"
    }
   }
  },
  {
   "cell_type": "code",
   "execution_count": 23,
   "outputs": [],
   "source": [
    "from tqdm import tqdm\n",
    "\n",
    "def loop_with_progress(iterable, desc=\"Processing items\"):\n",
    "    return tqdm(iterable, desc=desc, dynamic_ncols=True, unit='item', position=0, leave=True)"
   ],
   "metadata": {
    "collapsed": false,
    "ExecuteTime": {
     "start_time": "2023-04-11T19:32:47.249424Z",
     "end_time": "2023-04-11T19:32:47.266957Z"
    }
   }
  },
  {
   "cell_type": "code",
   "execution_count": 24,
   "outputs": [],
   "source": [
    "# load ../data/bill_data.json\n",
    "with open('../data/bill_data.json') as f:\n",
    "    bill_data = json.load(f)"
   ],
   "metadata": {
    "collapsed": false,
    "ExecuteTime": {
     "start_time": "2023-04-11T19:32:47.781777Z",
     "end_time": "2023-04-11T19:32:47.798881Z"
    }
   }
  },
  {
   "cell_type": "code",
   "execution_count": 25,
   "outputs": [],
   "source": [
    "def get_latest_action(bill_id):\n",
    "    bill = pc_client.bills.get(*bill_id.split('-'))\n",
    "    bill_type = bill['bill_type']\n",
    "    congress_num = bill['congress']\n",
    "    bill_num = bill['number'].split('.')[-1]\n",
    "    data, status_code = loc_client.get(f'bill/{congress_num}/{bill_type}/{bill_num}/actions')\n",
    "    assert status_code == 200\n",
    "\n",
    "    latest_action = None\n",
    "    latest_action_date = None\n",
    "    for action in data['actions']:\n",
    "        if action.get('actionCode') is None:\n",
    "            continue\n",
    "\n",
    "        # Parse YYYY-MM-DD date\n",
    "        date = action.get('actionDate', '1900-01-01')\n",
    "        time = action.get('actionTime', '00:00:00')\n",
    "        dt = datetime.strptime(date + ' ' + time,'%Y-%m-%d %H:%M:%S')\n",
    "\n",
    "        # Convert to Unix timestamp\n",
    "        timestamp = int(mktime(dt.timetuple()))\n",
    "\n",
    "        if latest_action_date is None or timestamp > latest_action_date:\n",
    "            latest_action_date = timestamp\n",
    "            latest_action = action\n",
    "\n",
    "    return latest_action.get('actionCode'), latest_action_date"
   ],
   "metadata": {
    "collapsed": false,
    "ExecuteTime": {
     "start_time": "2023-04-11T19:32:48.138998Z",
     "end_time": "2023-04-11T19:32:48.141937Z"
    }
   }
  },
  {
   "cell_type": "code",
   "execution_count": 26,
   "outputs": [
    {
     "name": "stderr",
     "output_type": "stream",
     "text": [
      "Processing items: 100%|██████████| 138/138 [00:00<00:00, 138174.73item/s]\n"
     ]
    }
   ],
   "source": [
    "# Add latest action code and timestamp to bill_data\n",
    "for bill_id in loop_with_progress(bill_data.keys()):\n",
    "    if (bill_data[bill_id].get('last_action_code') is not None\n",
    "            and bill_data[bill_id].get('last_action_timestamp') is not None):\n",
    "        continue\n",
    "\n",
    "    action_code, timestamp = get_latest_action(bill_id)\n",
    "    bill_data[bill_id]['last_action_code'] = action_code\n",
    "    bill_data[bill_id]['last_action_timestamp'] = timestamp"
   ],
   "metadata": {
    "collapsed": false,
    "ExecuteTime": {
     "start_time": "2023-04-11T19:32:48.662710Z",
     "end_time": "2023-04-11T19:32:48.673221Z"
    }
   }
  },
  {
   "cell_type": "code",
   "execution_count": 27,
   "outputs": [],
   "source": [
    "# Build ordinal mapping of action codes\n",
    "action_codes = {}\n",
    "for bill_id in bill_data.keys():\n",
    "    if bill_data[bill_id].get('last_action_code') is None:\n",
    "        continue\n",
    "\n",
    "    action_code = bill_data[bill_id]['last_action_code']\n",
    "\n",
    "    # get index of first digit\n",
    "    i = 0\n",
    "    while not action_code[i].isdigit():\n",
    "        i += 1\n",
    "\n",
    "    action_codes[action_code] = action_code[i:]\n",
    "\n",
    "action_code_ordinal = sorted(set(action_codes.values()))\n",
    "action_ordinal = {action_code: i for i, action_code in enumerate(action_code_ordinal)}"
   ],
   "metadata": {
    "collapsed": false,
    "ExecuteTime": {
     "start_time": "2023-04-11T19:32:54.000414Z",
     "end_time": "2023-04-11T19:32:54.019518Z"
    }
   }
  },
  {
   "cell_type": "code",
   "execution_count": 28,
   "outputs": [
    {
     "name": "stdout",
     "output_type": "stream",
     "text": [
      "Manual ordinal classification required for Bill ID: hr5296-117\n",
      "Found match: H8D000: 0\n",
      "Manual ordinal classification required for Bill ID: hr4373-117\n",
      "Found match: H1B000: 1\n",
      "Manual ordinal classification required for Bill ID: hr4720-117\n",
      "Found match: H8D000: 0\n"
     ]
    }
   ],
   "source": [
    "import re\n",
    "\n",
    "pattern = r'[a-zA-Z]\\d[a-zA-Z].*'\n",
    "\n",
    "manual_ordinal = {\n",
    "    'H8D': 0,\n",
    "    'H1B': 1,\n",
    "}\n",
    "\n",
    "for bill_id in bill_data.keys():\n",
    "    if not (action_code := bill_data[bill_id].get('last_action_code')) or re.search(pattern, action_code):\n",
    "        # manually classify bill\n",
    "        print('Manual ordinal classification required for Bill ID:', bill_id)\n",
    "        if action_code[:3] in manual_ordinal:\n",
    "            bill_data[bill_id]['last_action_ordinal'] = manual_ordinal[action_code[:3]]\n",
    "            print(f'Found match: {action_code}: {manual_ordinal[action_code[:3]]}')\n",
    "        continue\n",
    "\n",
    "    action_code_ordinal = action_codes[bill_data[bill_id]['last_action_code']]\n",
    "    ordinal = action_ordinal[action_code_ordinal]\n",
    "    bill_data[bill_id]['last_action_ordinal'] = ordinal"
   ],
   "metadata": {
    "collapsed": false,
    "ExecuteTime": {
     "start_time": "2023-04-11T19:32:58.203179Z",
     "end_time": "2023-04-11T19:32:58.217686Z"
    }
   }
  },
  {
   "cell_type": "code",
   "execution_count": 29,
   "outputs": [],
   "source": [
    "# save bill_data\n",
    "with open('../data/bill_data.json', 'w') as f:\n",
    "    json.dump(bill_data, f, indent=2)"
   ],
   "metadata": {
    "collapsed": false,
    "ExecuteTime": {
     "start_time": "2023-04-11T19:32:59.752637Z",
     "end_time": "2023-04-11T19:32:59.781166Z"
    }
   }
  }
 ],
 "metadata": {
  "kernelspec": {
   "display_name": "Python 3",
   "language": "python",
   "name": "python3"
  },
  "language_info": {
   "codemirror_mode": {
    "name": "ipython",
    "version": 2
   },
   "file_extension": ".py",
   "mimetype": "text/x-python",
   "name": "python",
   "nbconvert_exporter": "python",
   "pygments_lexer": "ipython2",
   "version": "2.7.6"
  }
 },
 "nbformat": 4,
 "nbformat_minor": 0
}
