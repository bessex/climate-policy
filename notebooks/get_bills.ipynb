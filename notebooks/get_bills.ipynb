{
 "cells": [
  {
   "cell_type": "code",
   "execution_count": 1,
   "metadata": {
    "collapsed": true
   },
   "outputs": [],
   "source": [
    "import congress\n",
    "import datetime\n",
    "import dotenv\n",
    "import json\n",
    "import time\n",
    "from urllib.parse import urlencode"
   ]
  },
  {
   "cell_type": "code",
   "execution_count": 10,
   "outputs": [],
   "source": [
    "api_key = dotenv.get_key('../.env', 'CONGRESS_API_KEY')"
   ],
   "metadata": {
    "collapsed": false
   }
  },
  {
   "cell_type": "code",
   "execution_count": 11,
   "outputs": [],
   "source": [
    "c = congress.Congress(api_key)"
   ],
   "metadata": {
    "collapsed": false
   }
  },
  {
   "cell_type": "code",
   "execution_count": 12,
   "outputs": [],
   "source": [
    "def convert_to_bill_id(bill_number):\n",
    "    bill_id = bill_number.lower()\n",
    "    bill_id = bill_id.replace(' ', '')\n",
    "    bill_id = bill_id.replace('.', '')\n",
    "    return bill_id"
   ],
   "metadata": {
    "collapsed": false
   }
  },
  {
   "cell_type": "code",
   "execution_count": 13,
   "outputs": [],
   "source": [
    "def get_related_subjects(keyword_filename):\n",
    "    # create list of subject queries from ../models/story_keywords.txt\n",
    "    with open(keyword_filename, 'r') as f:\n",
    "        keywords = f.read().splitlines()\n",
    "\n",
    "    # get subjects related to climate\n",
    "    subjects = set()\n",
    "\n",
    "    for keyword in keywords:\n",
    "        query = urlencode({'query': keyword.lower()})\n",
    "        kw_subjects = c.fetch('bills/subjects/search.json?' + query)['subjects']\n",
    "        for subj in kw_subjects:\n",
    "            if subj['has_bills'] == 'true':\n",
    "                subjects.add(subj['url_name'])\n",
    "\n",
    "    return subjects"
   ],
   "metadata": {
    "collapsed": false
   }
  },
  {
   "cell_type": "code",
   "execution_count": 14,
   "outputs": [],
   "source": [
    "def bills_for_subjects(subjects, logging=False):\n",
    "    bills = {}\n",
    "    for subject in subjects:\n",
    "        if logging:\n",
    "            print('Getting bills for subject: ' + subject + '...', end=' ')\n",
    "        fetched_bills = c.fetch('bills/subjects/' + subject + '.json', parse=lambda r: r['results'])\n",
    "        if logging:\n",
    "            print('%d bills found.' % len(fetched_bills))\n",
    "        for b in fetched_bills:\n",
    "            bills[b['bill_id']] = b\n",
    "    return bills"
   ],
   "metadata": {
    "collapsed": false
   }
  },
  {
   "cell_type": "code",
   "execution_count": 15,
   "outputs": [],
   "source": [
    "subjects = get_related_subjects(keyword_filename='../models/bill_keywords.txt')"
   ],
   "metadata": {
    "collapsed": false
   }
  },
  {
   "cell_type": "code",
   "execution_count": null,
   "outputs": [],
   "source": [
    "# Save bill subjects\n",
    "with open('../data/bill_subjects.txt', 'w') as f:\n",
    "    for subj in subjects:\n",
    "        f.write(subj + '\\n')"
   ],
   "metadata": {
    "collapsed": false
   }
  },
  {
   "cell_type": "code",
   "execution_count": 16,
   "outputs": [],
   "source": [
    "bills = bills_for_subjects(subjects)"
   ],
   "metadata": {
    "collapsed": false
   }
  },
  {
   "cell_type": "code",
   "execution_count": 17,
   "outputs": [],
   "source": [
    "# Set bill last action cutoff date\n",
    "# 27 months is the maximum reachback we can do with the AYLIEN API\n",
    "now = datetime.datetime.now()\n",
    "cutoff_month = now.month - 3\n",
    "cutoff_day = now.day\n",
    "cutoff_year = now.year - 2\n",
    "\n",
    "if cutoff_month <= 0:\n",
    "    cutoff_month += 12\n",
    "    cutoff_year -= 1\n",
    "\n",
    "cutoff_date = datetime.datetime(cutoff_year, cutoff_month, cutoff_day)"
   ],
   "metadata": {
    "collapsed": false
   }
  },
  {
   "cell_type": "code",
   "execution_count": 18,
   "outputs": [],
   "source": [
    "# Remove all bills whose last action was earlier than the cutoff\n",
    "recent_bills = {}\n",
    "for bill_id, bill in bills.items():\n",
    "    last_action_date = datetime.datetime.strptime(bill['latest_major_action_date'], '%Y-%m-%d')\n",
    "    if last_action_date >= cutoff_date:\n",
    "        recent_bills[bill_id] = bill"
   ],
   "metadata": {
    "collapsed": false
   }
  },
  {
   "cell_type": "code",
   "execution_count": 19,
   "outputs": [],
   "source": [
    "# Save bill ids\n",
    "with open('../data/bill_ids.txt', 'w') as f:\n",
    "    for bill_id in recent_bills.keys():\n",
    "        f.write(bill_id + '\\n')"
   ],
   "metadata": {
    "collapsed": false
   }
  },
  {
   "cell_type": "code",
   "execution_count": 23,
   "outputs": [],
   "source": [
    "def get_latest_vote(bill):\n",
    "    latest_house_roll_call = 0\n",
    "    house_api_url = None\n",
    "    latest_senate_roll_call = 0\n",
    "    senate_api_url = None\n",
    "\n",
    "    for vote in bill['votes']:\n",
    "        if vote['chamber'] == 'House':\n",
    "            if int(vote['roll_call']) > latest_house_roll_call:\n",
    "                latest_house_roll_call = int(vote['roll_call'])\n",
    "                house_api_url = vote['api_url']\n",
    "        elif vote['chamber'] == 'Senate':\n",
    "            if int(vote['roll_call']) > latest_senate_roll_call:\n",
    "                latest_senate_roll_call = int(vote['roll_call'])\n",
    "                senate_api_url = vote['api_url']\n",
    "\n",
    "    house = None\n",
    "    senate = None\n",
    "\n",
    "    if house_api_url:\n",
    "        house_api_uri = house_api_url.split('https://api.propublica.org/congress/v1/')[1]\n",
    "        house = c.fetch(house_api_uri, parse=lambda r: r['results']['votes']['vote'])\n",
    "\n",
    "    if senate_api_url:\n",
    "        senate_api_uri = senate_api_url.split('https://api.propublica.org/congress/v1/')[1]\n",
    "        senate = c.fetch(senate_api_uri, parse=lambda r: r['results']['votes']['vote'])\n",
    "\n",
    "    return house, senate"
   ],
   "metadata": {
    "collapsed": false
   }
  },
  {
   "cell_type": "code",
   "execution_count": 28,
   "outputs": [],
   "source": [
    "# Restructure for the data pipeline\n",
    "# Our schema is the following:\n",
    "# {\n",
    "#   <bill_id>: {\n",
    "#     'bill_id': <bill_id> (str),\n",
    "#     'congress': <congress> (int)\n",
    "#     'bill_number': <bill_number> (str),\n",
    "#     'short_title': <short_title> (str),\n",
    "#     'introduced': <introduced_date> (str),\n",
    "#     'last_action': <last_action> (str),\n",
    "#     'last_action_date': <last_action_date> (str),\n",
    "#     'house_vote': {\n",
    "#       'date': <date> (str),\n",
    "#       'passed': <result> (bool),\n",
    "#       'total_proportion': <proportion_of_total> (float),\n",
    "#       'democrats': <proportion_of_democrats> (float),\n",
    "#       'republicans': <proportion_of_republicans> (float),\n",
    "#       'independents': <proportion_of_independents> (float),\n",
    "#     },\n",
    "#     'senate_vote': {\n",
    "#       'date': <date> (str),\n",
    "#       'passed': <result> (bool),\n",
    "#       'total_proportion': <proportion_of_total> (float),\n",
    "#       'democrats': <proportion_of_democrats> (float),\n",
    "#       'republicans': <proportion_of_republicans> (float),\n",
    "#       'independents': <proportion_of_independents> (float)\n",
    "#     }\n",
    "#   }\n",
    "# }\n",
    "# Note: the schema uses strings for dates since datetime objects are not JSON serializable\n",
    "def get_bill_restruct(bill_id, bill):\n",
    "    bill_r = {\n",
    "        'bill_id': bill_id.split('-')[0],\n",
    "        'congress': int(bill_id.split('-')[1]),\n",
    "        'bill_number': bill['number'],\n",
    "        'short_title': bill['short_title'],\n",
    "        # 'introduced': datetime.datetime.strptime(bill['introduced_date'], '%Y-%m-%d'),\n",
    "        'introduced': bill['introduced_date'],\n",
    "        'last_action': bill['latest_major_action'],\n",
    "        # 'last_action_date': datetime.datetime.strptime(bill['latest_major_action_date'], '%Y-%m-%d'),\n",
    "        'last_action_date': bill['latest_major_action_date'],\n",
    "        'house_vote': {},\n",
    "        'senate_vote': {}\n",
    "    }\n",
    "\n",
    "    if not bill['votes']:\n",
    "        return bill_r\n",
    "\n",
    "    house_vote, senate_vote = get_latest_vote(bill)\n",
    "\n",
    "    if house_vote:\n",
    "        house_passed = house_vote['result'] == 'Passed'\n",
    "\n",
    "        house_dems_yes = house_vote['democratic']['yes']\n",
    "        house_dems_no = house_vote['democratic']['no']\n",
    "        all_house_dems = house_dems_yes + house_dems_no\n",
    "\n",
    "        house_reps_yes = house_vote['republican']['yes']\n",
    "        house_reps_no = house_vote['republican']['no']\n",
    "        all_house_reps = house_reps_yes + house_reps_no\n",
    "\n",
    "        house_ind_yes = house_vote['independent']['yes']\n",
    "        house_ind_no = house_vote['independent']['no']\n",
    "        all_house_ind = house_ind_yes + house_ind_no\n",
    "\n",
    "        bill_r['house_vote'] = {\n",
    "            # 'date': datetime.datetime.strptime(house_vote['date'], '%Y-%m-%d'),\n",
    "            'date': house_vote['date'],\n",
    "            'passed': house_passed,\n",
    "            'total_proportion': ((house_dems_yes + house_reps_yes + house_ind_yes) / (all_house_dems + all_house_reps + all_house_ind)) if (all_house_dems + all_house_reps + all_house_ind) > 0 else None,\n",
    "            'democrats': (house_dems_yes / all_house_dems) if all_house_dems > 0 else None,\n",
    "            'republicans': (house_reps_yes / all_house_reps) if all_house_reps > 0 else None,\n",
    "            'independents': (house_ind_yes / all_house_ind) if all_house_ind > 0 else None,\n",
    "        }\n",
    "\n",
    "    if senate_vote:\n",
    "        senate_passed = senate_vote['result'] == 'Passed'\n",
    "\n",
    "        senate_dems_yes = senate_vote['democratic']['yes']\n",
    "        senate_dems_no = senate_vote['democratic']['no']\n",
    "        all_senate_dems = senate_dems_yes + senate_dems_no\n",
    "\n",
    "        senate_reps_yes = senate_vote['republican']['yes']\n",
    "        senate_reps_no = senate_vote['republican']['no']\n",
    "        all_senate_reps = senate_reps_yes + senate_reps_no\n",
    "\n",
    "        senate_ind_yes = senate_vote['independent']['yes']\n",
    "        senate_ind_no = senate_vote['independent']['no']\n",
    "        all_senate_ind = senate_ind_yes + senate_ind_no\n",
    "\n",
    "        bill_r['senate_vote'] = {\n",
    "            # 'date': datetime.datetime.strptime(senate_vote['date'], '%Y-%m-%d'),\n",
    "            'date': senate_vote['date'],\n",
    "            'passed': senate_passed,\n",
    "            'total_proportion': ((senate_dems_yes + senate_reps_yes + senate_ind_yes) / (all_senate_dems + all_senate_reps + all_senate_ind)) if (all_senate_dems + all_senate_reps + all_senate_ind) > 0 else None,\n",
    "            'democrats': (senate_dems_yes / all_senate_dems) if all_senate_dems > 0 else None,\n",
    "            'republicans': (senate_reps_yes / all_senate_reps) if all_senate_reps > 0 else None,\n",
    "            'independents': (senate_ind_yes / all_senate_ind) if all_senate_ind > 0 else None\n",
    "        }\n",
    "\n",
    "    return bill_r"
   ],
   "metadata": {
    "collapsed": false
   }
  },
  {
   "cell_type": "code",
   "execution_count": 33,
   "outputs": [],
   "source": [
    "bills_restruct = {}\n",
    "\n",
    "# this is to resume in case an issue occurs\n",
    "retry_count = 0\n",
    "MAX_RETRIES = 5\n",
    "\n",
    "while retry_count < MAX_RETRIES:\n",
    "    try:\n",
    "        for bill_id, _ in recent_bills.items():\n",
    "            if bill_id in bills_restruct:\n",
    "                continue\n",
    "            bill = c.bills.get(*bill_id.split('-'))\n",
    "            bills_restruct[bill_id] = get_bill_restruct(bill_id, bill)\n",
    "        break\n",
    "    except Exception as e:\n",
    "        print(e)\n",
    "        retry_count += 1\n",
    "        print(f'Error occurred, retry {retry_count} of {MAX_RETRIES}...')\n",
    "        time.sleep(5)"
   ],
   "metadata": {
    "collapsed": false
   }
  },
  {
   "cell_type": "code",
   "execution_count": 77,
   "outputs": [],
   "source": [
    "# write entire bill data to file\n",
    "with open('../data/bill_data.json', 'w') as f:\n",
    "    json.dump(bills_restruct, f, indent=2)"
   ],
   "metadata": {
    "collapsed": false
   }
  }
 ],
 "metadata": {
  "kernelspec": {
   "display_name": "Python 3",
   "language": "python",
   "name": "python3"
  },
  "language_info": {
   "codemirror_mode": {
    "name": "ipython",
    "version": 2
   },
   "file_extension": ".py",
   "mimetype": "text/x-python",
   "name": "python",
   "nbconvert_exporter": "python",
   "pygments_lexer": "ipython2",
   "version": "2.7.6"
  }
 },
 "nbformat": 4,
 "nbformat_minor": 0
}
