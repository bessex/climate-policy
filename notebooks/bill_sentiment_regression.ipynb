{
 "cells": [
  {
   "cell_type": "code",
   "execution_count": 16,
   "metadata": {
    "collapsed": true
   },
   "outputs": [],
   "source": [
    "import json\n",
    "import pandas as pd\n",
    "from sklearn.linear_model import LinearRegression"
   ]
  },
  {
   "cell_type": "code",
   "execution_count": 15,
   "outputs": [],
   "source": [
    "# Load data from files\n",
    "with open('../data/all_windows_classified.json', 'r') as f:\n",
    "    sentiment_data = json.load(f)\n",
    "\n",
    "with open('../data/bill_window_matching.json', 'r') as f:\n",
    "    bill_windows = json.load(f)\n",
    "\n",
    "with open('../data/bill_data.json', 'r') as f:\n",
    "    bill_data = json.load(f)"
   ],
   "metadata": {
    "collapsed": false
   }
  },
  {
   "cell_type": "code",
   "execution_count": 17,
   "outputs": [
    {
     "name": "stdout",
     "output_type": "stream",
     "text": [
      "Intercept: 2.859513910778239\n",
      "Positive coefficient: 16.354801308680088\n",
      "Negative coefficient: 19.353096637613696\n",
      "Neutral coefficient: 8.472316412017243\n"
     ]
    }
   ],
   "source": [
    "# Aggregate sentiment scores for each bill\n",
    "bill_sentiment_data = {}\n",
    "for bill_key in bill_windows:\n",
    "    ordinality = bill_data[bill_key]['last_action_ordinal']\n",
    "\n",
    "    bill_sentiment_data[bill_key] = {'positive': [], 'negative': [], 'neutral': [], 'ordinality': ordinality}\n",
    "\n",
    "    for window_key in bill_windows[bill_key]:\n",
    "        for sentiment_type in ['positive', 'negative', 'neutral']:\n",
    "            bill_sentiment_data[bill_key][sentiment_type].append(sentiment_data[window_key]['sentiment'][sentiment_type])\n",
    "\n",
    "    # Calculate average sentiment score for each sentiment type\n",
    "    for sentiment_type in ['positive', 'negative', 'neutral']:\n",
    "        if len(bill_sentiment_data[bill_key][sentiment_type]) > 0:\n",
    "            bill_sentiment_data[bill_key][sentiment_type] = sum(bill_sentiment_data[bill_key][sentiment_type]) / len(bill_sentiment_data[bill_key][sentiment_type])\n",
    "        else:\n",
    "            bill_sentiment_data[bill_key][sentiment_type] = 0.0\n",
    "\n",
    "\n",
    "# Create dataframe for regression\n",
    "df = pd.DataFrame.from_dict(bill_sentiment_data, orient='index')\n",
    "X = df[['positive', 'negative', 'neutral']]\n",
    "y = df['ordinality']\n",
    "\n",
    "# Fit linear regression\n",
    "reg = LinearRegression().fit(X, y)\n",
    "\n",
    "# Print regression coefficients\n",
    "print('Intercept:', reg.intercept_)\n",
    "print('Positive coefficient:', reg.coef_[0])\n",
    "print('Negative coefficient:', reg.coef_[1])\n",
    "print('Neutral coefficient:', reg.coef_[2])"
   ],
   "metadata": {
    "collapsed": false
   }
  }
 ],
 "metadata": {
  "kernelspec": {
   "display_name": "Python 3",
   "language": "python",
   "name": "python3"
  },
  "language_info": {
   "codemirror_mode": {
    "name": "ipython",
    "version": 2
   },
   "file_extension": ".py",
   "mimetype": "text/x-python",
   "name": "python",
   "nbconvert_exporter": "python",
   "pygments_lexer": "ipython2",
   "version": "2.7.6"
  }
 },
 "nbformat": 4,
 "nbformat_minor": 0
}
