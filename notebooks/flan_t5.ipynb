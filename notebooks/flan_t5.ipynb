{
 "cells": [
  {
   "cell_type": "code",
   "execution_count": 15,
   "metadata": {
    "collapsed": true,
    "ExecuteTime": {
     "start_time": "2023-04-10T17:14:31.317908Z",
     "end_time": "2023-04-10T17:15:53.977696Z"
    }
   },
   "outputs": [
    {
     "data": {
      "text/plain": "Loading checkpoint shards:   0%|          | 0/2 [00:00<?, ?it/s]",
      "application/vnd.jupyter.widget-view+json": {
       "version_major": 2,
       "version_minor": 0,
       "model_id": "886104b485b3493fabf041d1d5ce6490"
      }
     },
     "metadata": {},
     "output_type": "display_data"
    },
    {
     "name": "stdout",
     "output_type": "stream",
     "text": [
      "<pad>neutral\n"
     ]
    }
   ],
   "source": [
    "# Import the required modules\n",
    "from transformers import T5Tokenizer, T5ForConditionalGeneration\n",
    "\n",
    "# Load the FLAN-T5 large tokenizer and model\n",
    "tokenizer = T5Tokenizer.from_pretrained(\"google/flan-t5-xl\")\n",
    "model = T5ForConditionalGeneration.from_pretrained(\"google/flan-t5-xl\").to('cuda')  # Move the model to GPU\n",
    "\n",
    "# Define the input text\n",
    "input_text1 = 'Classify as positive, negative, or neutral: \"urgent crisis has not received the international response it merits. we can, and must, do more.\\n\\nthat includes passing the global food security reauthorization act of 2022. since it was passed in 2016, the bipartisan gfsa has played a key role in addressing the root causes of food insecurity and\"'\n",
    "\n",
    "input_text2 = 'Classify as positive, negative, or neutral: \"groups wrote.  \\u201cthis is especially relevant as organized labor is lobbying for more power through unprecedented increases of civil penalties in the h.r. 5376, the build back better act and h.r. 842, the devastating protecting the right to organize (pro) act,\\u201d they\"'\n",
    "\n",
    "input_text3 = 'Classify as positive, negative, or neutral: \"updates to 45l and 179d.  the inflation reduction act extends energy efficiency building incentives  in august 2022, president biden signed the inflation reduction act of 2022, h.r. 5376 . the legislation includes components of the former build back better act and addresses energy, health, and targeted tax\"'\n",
    "\n",
    "# Tokenize the input text\n",
    "input_ids = tokenizer(input_text3, return_tensors=\"pt\").input_ids.to('cuda')  # Move the input tensors to GPU\n",
    "\n",
    "# Generate the translation output\n",
    "outputs = model.generate(input_ids, max_new_tokens=1)\n",
    "\n",
    "# Decode and print the response\n",
    "print(tokenizer.decode(outputs[0]))"
   ]
  },
  {
   "cell_type": "code",
   "execution_count": null,
   "outputs": [],
   "source": [],
   "metadata": {
    "collapsed": false
   }
  }
 ],
 "metadata": {
  "kernelspec": {
   "display_name": "Python 3",
   "language": "python",
   "name": "python3"
  },
  "language_info": {
   "codemirror_mode": {
    "name": "ipython",
    "version": 2
   },
   "file_extension": ".py",
   "mimetype": "text/x-python",
   "name": "python",
   "nbconvert_exporter": "python",
   "pygments_lexer": "ipython2",
   "version": "2.7.6"
  }
 },
 "nbformat": 4,
 "nbformat_minor": 0
}
