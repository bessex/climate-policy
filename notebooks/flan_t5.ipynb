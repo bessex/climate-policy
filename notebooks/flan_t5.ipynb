{
 "cells": [
  {
   "cell_type": "code",
   "execution_count": 1,
   "metadata": {
    "collapsed": true,
    "ExecuteTime": {
     "start_time": "2023-04-10T17:30:24.507865Z",
     "end_time": "2023-04-10T17:30:45.886578Z"
    }
   },
   "outputs": [
    {
     "data": {
      "text/plain": "Loading checkpoint shards:   0%|          | 0/2 [00:00<?, ?it/s]",
      "application/vnd.jupyter.widget-view+json": {
       "version_major": 2,
       "version_minor": 0,
       "model_id": "84919b676b7b4701a04133f81398685c"
      }
     },
     "metadata": {},
     "output_type": "display_data"
    }
   ],
   "source": [
    "# Import the required modules\n",
    "import torch\n",
    "from transformers import T5Tokenizer, T5ForConditionalGeneration\n",
    "\n",
    "# Load the FLAN-T5 large tokenizer and model\n",
    "tokenizer = T5Tokenizer.from_pretrained(\"google/flan-t5-xl\")\n",
    "model = T5ForConditionalGeneration.from_pretrained(\"google/flan-t5-xl\").to('cuda')  # Move the model to GPU"
   ]
  },
  {
   "cell_type": "code",
   "execution_count": 33,
   "outputs": [],
   "source": [
    "# Define the input text\n",
    "input_text1 = 'Classify as positive, negative, or neutral: \"urgent crisis has not received the international response it merits. we can, and must, do more.\\n\\nthat includes passing the global food security reauthorization act of 2022. since it was passed in 2016, the bipartisan gfsa has played a key role in addressing the root causes of food insecurity and\"'\n",
    "\n",
    "input_text2 = 'Classify as positive, negative, or neutral: \"groups wrote.  \\u201cthis is especially relevant as organized labor is lobbying for more power through unprecedented increases of civil penalties in the h.r. 5376, the build back better act and h.r. 842, the devastating protecting the right to organize (pro) act,\\u201d they\"'\n",
    "\n",
    "input_text3 = 'Classify as positive, negative, or neutral: \"updates to 45l and 179d.  the inflation reduction act extends energy efficiency building incentives  in august 2022, president biden signed the inflation reduction act of 2022, h.r. 5376 . the legislation includes components of the former build back better act and addresses energy, health, and targeted tax\"'\n",
    "\n",
    "# Tokenize the input text\n",
    "input_ids = tokenizer(input_text3, return_tensors=\"pt\").input_ids.to('cuda')  # Move the input tensors to GPU\n",
    "\n",
    "# Generate the translation output\n",
    "# outputs = model.generate(input_ids, max_new_tokens=3, num_beams=3, num_return_sequences=3, return_dict_in_generate=True, output_scores=True)\n",
    "outputs = model.generate(input_ids, max_new_tokens=3)"
   ],
   "metadata": {
    "collapsed": false,
    "ExecuteTime": {
     "start_time": "2023-04-10T18:04:57.268513Z",
     "end_time": "2023-04-10T18:04:57.512117Z"
    }
   }
  },
  {
   "cell_type": "code",
   "execution_count": 35,
   "outputs": [
    {
     "data": {
      "text/plain": "\u001B[31m╭─\u001B[0m\u001B[31m──────────────────────────────\u001B[0m\u001B[31m \u001B[0m\u001B[1;31mTraceback \u001B[0m\u001B[1;2;31m(most recent call last)\u001B[0m\u001B[31m \u001B[0m\u001B[31m───────────────────────────────\u001B[0m\u001B[31m─╮\u001B[0m\n\u001B[31m│\u001B[0m \u001B[33mC:\\Users\\bessex\\AppData\\Local\\Temp\\ipykernel_27124\\3352704333.py\u001B[0m:\u001B[94m1\u001B[0m in \u001B[92m<module>\u001B[0m                   \u001B[31m│\u001B[0m\n\u001B[31m│\u001B[0m                                                                                                  \u001B[31m│\u001B[0m\n\u001B[31m│\u001B[0m \u001B[3;31m[Errno 2] No such file or directory: \u001B[0m                                                            \u001B[31m│\u001B[0m\n\u001B[31m│\u001B[0m \u001B[3;31m'C:\\\\Users\\\\bessex\\\\AppData\\\\Local\\\\Temp\\\\ipykernel_27124\\\\3352704333.py'\u001B[0m                        \u001B[31m│\u001B[0m\n\u001B[31m╰──────────────────────────────────────────────────────────────────────────────────────────────────╯\u001B[0m\n\u001B[1;91mAttributeError: \u001B[0m\u001B[32m'Tensor'\u001B[0m object has no attribute \u001B[32m'scores'\u001B[0m\n",
      "text/html": "<pre style=\"white-space:pre;overflow-x:auto;line-height:normal;font-family:Menlo,'DejaVu Sans Mono',consolas,'Courier New',monospace\"><span style=\"color: #800000; text-decoration-color: #800000\">╭─────────────────────────────── </span><span style=\"color: #800000; text-decoration-color: #800000; font-weight: bold\">Traceback </span><span style=\"color: #bf7f7f; text-decoration-color: #bf7f7f; font-weight: bold\">(most recent call last)</span><span style=\"color: #800000; text-decoration-color: #800000\"> ────────────────────────────────╮</span>\n<span style=\"color: #800000; text-decoration-color: #800000\">│</span> <span style=\"color: #808000; text-decoration-color: #808000\">C:\\Users\\bessex\\AppData\\Local\\Temp\\ipykernel_27124\\3352704333.py</span>:<span style=\"color: #0000ff; text-decoration-color: #0000ff\">1</span> in <span style=\"color: #00ff00; text-decoration-color: #00ff00\">&lt;module&gt;</span>                   <span style=\"color: #800000; text-decoration-color: #800000\">│</span>\n<span style=\"color: #800000; text-decoration-color: #800000\">│</span>                                                                                                  <span style=\"color: #800000; text-decoration-color: #800000\">│</span>\n<span style=\"color: #800000; text-decoration-color: #800000\">│</span> <span style=\"color: #800000; text-decoration-color: #800000; font-style: italic\">[Errno 2] No such file or directory: </span>                                                            <span style=\"color: #800000; text-decoration-color: #800000\">│</span>\n<span style=\"color: #800000; text-decoration-color: #800000\">│</span> <span style=\"color: #800000; text-decoration-color: #800000; font-style: italic\">'C:\\\\Users\\\\bessex\\\\AppData\\\\Local\\\\Temp\\\\ipykernel_27124\\\\3352704333.py'</span>                        <span style=\"color: #800000; text-decoration-color: #800000\">│</span>\n<span style=\"color: #800000; text-decoration-color: #800000\">╰──────────────────────────────────────────────────────────────────────────────────────────────────╯</span>\n<span style=\"color: #ff0000; text-decoration-color: #ff0000; font-weight: bold\">AttributeError: </span><span style=\"color: #008000; text-decoration-color: #008000\">'Tensor'</span> object has no attribute <span style=\"color: #008000; text-decoration-color: #008000\">'scores'</span>\n</pre>\n"
     },
     "metadata": {},
     "output_type": "display_data"
    }
   ],
   "source": [
    "print(tokenizer.decode(outputs))"
   ],
   "metadata": {
    "collapsed": false,
    "ExecuteTime": {
     "start_time": "2023-04-10T18:04:57.659726Z",
     "end_time": "2023-04-10T18:04:57.668817Z"
    }
   }
  },
  {
   "cell_type": "code",
   "execution_count": 32,
   "outputs": [
    {
     "name": "stdout",
     "output_type": "stream",
     "text": [
      "Predicted text: <pad> neutral</s>\n",
      "Normalized confidence score: 6.069638130282044e-06\n",
      "------\n",
      "Predicted text: <pad> positive</s>\n",
      "Normalized confidence score: 0.867680474658591\n",
      "------\n",
      "Predicted text: <pad> negative</s>\n",
      "Normalized confidence score: 0.1323134557032787\n",
      "------\n"
     ]
    }
   ],
   "source": [
    "# Extract the token ids and logits\n",
    "output_token_ids = outputs.sequences\n",
    "output_logits = outputs.scores\n",
    "\n",
    "# Extract the raw confidence scores for the top 3 predictions\n",
    "raw_scores = [torch.softmax(output_logits[i], dim=-1)[0, output_token_ids[i, -1]].item() for i in range(output_token_ids.size(0))]\n",
    "\n",
    "# Normalize the confidence scores so that they sum to 1\n",
    "normalized_scores = [score / sum(raw_scores) for score in raw_scores]\n",
    "\n",
    "# Iterate through each prediction and print the normalized confidence scores\n",
    "for i in range(output_token_ids.size(0)):\n",
    "    # Decode and print the predicted text\n",
    "    predicted_text = tokenizer.decode(output_token_ids[i])\n",
    "    print(\"Predicted text:\", predicted_text)\n",
    "\n",
    "    # Print the normalized confidence score for the prediction\n",
    "    print(\"Normalized confidence score:\", normalized_scores[i])\n",
    "    print(\"------\")"
   ],
   "metadata": {
    "collapsed": false,
    "ExecuteTime": {
     "start_time": "2023-04-10T18:04:34.135446Z",
     "end_time": "2023-04-10T18:04:34.149968Z"
    }
   }
  },
  {
   "cell_type": "code",
   "execution_count": null,
   "outputs": [],
   "source": [],
   "metadata": {
    "collapsed": false
   }
  }
 ],
 "metadata": {
  "kernelspec": {
   "display_name": "Python 3",
   "language": "python",
   "name": "python3"
  },
  "language_info": {
   "codemirror_mode": {
    "name": "ipython",
    "version": 2
   },
   "file_extension": ".py",
   "mimetype": "text/x-python",
   "name": "python",
   "nbconvert_exporter": "python",
   "pygments_lexer": "ipython2",
   "version": "2.7.6"
  }
 },
 "nbformat": 4,
 "nbformat_minor": 0
}
