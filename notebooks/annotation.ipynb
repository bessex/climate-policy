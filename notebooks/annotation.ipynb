{
 "cells": [
  {
   "cell_type": "code",
   "execution_count": 1,
   "outputs": [],
   "source": [
    "import json\n",
    "import keyboard\n",
    "from spacy.lang.en import English\n",
    "import numpy as np\n",
    "import os"
   ],
   "metadata": {
    "collapsed": false,
    "ExecuteTime": {
     "start_time": "2023-03-29T16:51:35.683610Z",
     "end_time": "2023-03-29T16:51:35.706150Z"
    }
   }
  },
  {
   "cell_type": "markdown",
   "source": [
    "### 1. Read in all instances"
   ],
   "metadata": {
    "collapsed": false
   }
  },
  {
   "cell_type": "code",
   "execution_count": 3,
   "metadata": {
    "collapsed": true,
    "ExecuteTime": {
     "start_time": "2023-03-29T15:38:44.547060Z",
     "end_time": "2023-03-29T15:38:44.570217Z"
    }
   },
   "outputs": [
    {
     "name": "stdout",
     "output_type": "stream",
     "text": [
      "hey\n"
     ]
    }
   ],
   "source": [
    "# read in all instances from json at ../data/all_instances.json\n",
    "with open('../data/all_instances.json', 'r') as f:\n",
    "    all_instances = json.load(f)"
   ]
  },
  {
   "cell_type": "markdown",
   "source": [
    "### 2. Read in all documents"
   ],
   "metadata": {
    "collapsed": false
   }
  },
  {
   "cell_type": "code",
   "execution_count": 4,
   "outputs": [],
   "source": [
    "# read in all documents from json at ../data/documents_bias.json\n",
    "with open('../data/documents_bias.json', 'r') as f:\n",
    "    documents = json.load(f)"
   ],
   "metadata": {
    "collapsed": false,
    "ExecuteTime": {
     "start_time": "2023-03-29T15:40:55.600170Z",
     "end_time": "2023-03-29T15:40:56.532933Z"
    }
   }
  },
  {
   "cell_type": "markdown",
   "source": [
    "### 3. Get k-window instances from documents"
   ],
   "metadata": {
    "collapsed": false
   }
  },
  {
   "cell_type": "code",
   "execution_count": 6,
   "outputs": [],
   "source": [
    "# k-window is the number of tokens (k/2 before and k/2 after) to include in the instance\n",
    "k = 50\n",
    "\n",
    "# create tokenizer\n",
    "nlp = English()\n",
    "tokenizer = nlp.tokenizer\n",
    "\n",
    "windows = {}\n",
    "\n",
    "negative = []\n",
    "neutral = []\n",
    "positive = []\n",
    "\n",
    "# iterate through instances and save k-window from corresponding document\n",
    "for instance in all_instances:\n",
    "    # get document id\n",
    "    doc_id = str(instance['document_id'])\n",
    "    # get document text\n",
    "    doc_text = tokenizer(documents[doc_id]['body'].lower())\n",
    "    # get start and end index of instance\n",
    "    start = max(instance['start'] - k//2, 0)\n",
    "    end = min(instance['end'] + k//2, len(doc_text))\n",
    "    # get k-window from document text\n",
    "    window = doc_text[start:end]\n",
    "    # save window\n",
    "    windows[instance['instance_id']] = window.text\n",
    "\n",
    "    # get sentiment\n",
    "    sentiment = documents[doc_id]['sentiment']['body_polarity']\n",
    "\n",
    "    if sentiment == 'negative':\n",
    "        negative.append(instance['instance_id'])\n",
    "    elif sentiment == 'neutral':\n",
    "        neutral.append(instance['instance_id'])\n",
    "    elif sentiment == 'positive':\n",
    "        positive.append(instance['instance_id'])"
   ],
   "metadata": {
    "collapsed": false,
    "ExecuteTime": {
     "start_time": "2023-03-29T16:40:42.680175Z",
     "end_time": "2023-03-29T16:40:53.683602Z"
    }
   }
  },
  {
   "cell_type": "markdown",
   "source": [
    "### 3.5 Save all windows to file"
   ],
   "metadata": {
    "collapsed": false
   }
  },
  {
   "cell_type": "code",
   "execution_count": 29,
   "outputs": [],
   "source": [
    "with open('../data/all_windows_50.json', 'w') as f:\n",
    "    json.dump(windows, f)"
   ],
   "metadata": {
    "collapsed": false,
    "ExecuteTime": {
     "start_time": "2023-03-29T16:44:53.609628Z",
     "end_time": "2023-03-29T16:44:53.671669Z"
    }
   }
  },
  {
   "cell_type": "markdown",
   "source": [
    "### 4. Select a random sample of 8 negative, 16 neutral, and 8 positive instances\n",
    "(as classified by AYLIEN)"
   ],
   "metadata": {
    "collapsed": false
   }
  },
  {
   "cell_type": "code",
   "execution_count": 39,
   "outputs": [],
   "source": [
    "# select a random sample of 8 negative, 16 neutral, and 8 positive instances\n",
    "# (as classified by AYLIEN)\n",
    "training_file = '../models/training_new_50.json'\n",
    "\n",
    "if os.path.exists(training_file):\n",
    "    with open(training_file, 'r') as f:\n",
    "        training = json.load(f)\n",
    "    training_keys = [t[0] for t in training]\n",
    "else:\n",
    "    training = []\n",
    "    training_keys = []\n",
    "\n",
    "# select a random sample of 8 negative, 16 neutral, and 8 positive instances\n",
    "# (as classified by AYLIEN) that are not already in training\n",
    "np.random.seed(50)\n",
    "negative_new = set(negative) - set(training_keys)\n",
    "neutral_new = set(neutral) - set(training_keys)\n",
    "positive_new = set(positive) - set(training_keys)\n",
    "\n",
    "training_keys += list(np.random.choice(list(negative_new), 8, replace=False)) \\\n",
    "                + list(np.random.choice(list(neutral_new), 16, replace=False)) \\\n",
    "                + list(np.random.choice(list(positive_new), 8, replace=False))\n",
    "\n",
    "# shuffle instances\n",
    "np.random.shuffle(training_keys)\n",
    "training = [(key, windows[key]) for key in training_keys]\n",
    "\n",
    "# save training to file\n",
    "with open(training_file, 'w') as f:\n",
    "    json.dump(training, f)"
   ],
   "metadata": {
    "collapsed": false,
    "ExecuteTime": {
     "start_time": "2023-03-29T17:02:42.359889Z",
     "end_time": "2023-03-29T17:02:42.373908Z"
    }
   }
  },
  {
   "cell_type": "markdown",
   "source": [
    "(Then use annotate.py to annotate the training data)"
   ],
   "metadata": {
    "collapsed": false
   }
  },
  {
   "cell_type": "code",
   "execution_count": 9,
   "outputs": [],
   "source": [],
   "metadata": {
    "collapsed": false
   }
  }
 ],
 "metadata": {
  "kernelspec": {
   "display_name": "Python 3",
   "language": "python",
   "name": "python3"
  },
  "language_info": {
   "codemirror_mode": {
    "name": "ipython",
    "version": 2
   },
   "file_extension": ".py",
   "mimetype": "text/x-python",
   "name": "python",
   "nbconvert_exporter": "python",
   "pygments_lexer": "ipython2",
   "version": "2.7.6"
  }
 },
 "nbformat": 4,
 "nbformat_minor": 0
}
