{
 "cells": [
  {
   "cell_type": "markdown",
   "source": [
    "Pull in document instances"
   ],
   "metadata": {
    "collapsed": false
   }
  },
  {
   "cell_type": "code",
   "execution_count": 2,
   "outputs": [],
   "source": [
    "import json\n",
    "from spacy.lang.en import English"
   ],
   "metadata": {
    "collapsed": false
   }
  },
  {
   "cell_type": "markdown",
   "source": [
    "This returns a dictionary of bill ID matched with all possible english representations of the bill so we can match back the windows"
   ],
   "metadata": {
    "collapsed": false
   }
  },
  {
   "cell_type": "code",
   "execution_count": 28,
   "outputs": [],
   "source": [
    "def get_bill_matching(bills_file) -> list:\n",
    "    with open(bills_file, 'r') as f:\n",
    "        bills = json.load(f)\n",
    "\n",
    "    terms = dict()\n",
    "\n",
    "    for bill in bills.values():\n",
    "        bill_number = bill['bill_number']\n",
    "        bill_id = bill['bill_id']\n",
    "        bill_introduced = bill['introduced']\n",
    "        bill_last_action_date = bill['last_action_date']\n",
    "\n",
    "        terms[bill['short_title'].lower()] = {'bill_id': bill_id,\n",
    "                                      'introduced': bill_introduced,\n",
    "                                      'last_action_date': bill_last_action_date}\n",
    "\n",
    "        # bill['bill_number'] might look like 'H.R.1' or 'S.312' but we want 'H.R. 1' or 'S. 312'\n",
    "        # if the bill number already has a space after the period, don't add another one\n",
    "        # we can rfind the first period and insert a space after it if necessary\n",
    "\n",
    "        dot_index = bill_number.rfind('.')\n",
    "        if bill_number[dot_index+1] != ' ':\n",
    "            bill_number = bill_number[:dot_index] + '. ' + bill_number[dot_index+1:]\n",
    "\n",
    "        terms[bill_number.lower()] = {'bill_id': bill_id,\n",
    "                                      'introduced': bill_introduced,\n",
    "                                      'last_action_date': bill_last_action_date}\n",
    "\n",
    "        # sometimes it's even 'H.RES.' or 'S.RES.'--in these cases we should also\n",
    "        # add 'H. RES.', 'S. RES.', 'H.R.' and 'S.R.'\n",
    "        if 'RES.' in bill_number:\n",
    "            terms[bill_number.replace('RES.', 'R.').lower()] = {'bill_id': bill_id,\n",
    "                                                        'introduced': bill_introduced,\n",
    "                                                        'last_action_date': bill_last_action_date}\n",
    "            terms[bill_number.replace('RES.', ' RES.').lower()] = {'bill_id': bill_id,\n",
    "                                                            'introduced': bill_introduced,\n",
    "                                                            'last_action_date': bill_last_action_date}\n",
    "\n",
    "        # in theory there could be other cases, but we'll just add them manually if we find them\n",
    "\n",
    "        # TODO: for debugging only....\n",
    "        # bill_number_digits = bill_number.split(' ')[-1]\n",
    "        # terms.append(bill_number_digits)\n",
    "\n",
    "    return terms"
   ],
   "metadata": {
    "collapsed": false
   }
  },
  {
   "cell_type": "markdown",
   "source": [],
   "metadata": {
    "collapsed": false
   }
  },
  {
   "cell_type": "code",
   "execution_count": 0,
   "outputs": [],
   "source": [
    "def match_instance_to_bill_and_year(instance_file, matching_terms):\n",
    "    with open(instance_file, 'r') as f:\n",
    "        instances = json.load(f)\n",
    "\n",
    "    matchings = dict()\n",
    "\n",
    "    for instance in instances:\n",
    "        instance_id = instance['instance_id']\n",
    "        term = instance['match']\n",
    "\n",
    "        result = {'bill_id': matching_terms[term]['bill_id'],\n",
    "                  'introduced': matching_terms[term]['introduced'],\n",
    "                  'last_action_date': matching_terms[term]['last_action_date']}\n",
    "\n",
    "        matchings[instance_id] = result\n",
    "\n",
    "    return matchings"
   ],
   "metadata": {
    "collapsed": false
   }
  },
  {
   "cell_type": "code",
   "execution_count": 0,
   "outputs": [],
   "source": [
    "def match_windows_to_bills(bills_file, matching_instances):\n",
    "    with open(bills_file, 'r') as f:\n",
    "        bills = json.load(f)\n",
    "\n",
    "    bill_matchings = dict()\n",
    "\n",
    "    for bill_key in bills:\n",
    "        bill = bills[bill_key]\n",
    "        bill_id = bill['bill_id']\n",
    "\n",
    "        # Loop through each matching instance and check if it matches this bill's ID\n",
    "        bill_windows = [window_key for window_key in matching_instances if matching_instances[window_key]['bill_id'] == bill_id]\n",
    "\n",
    "\n",
    "        # Add the list of matching window keys to the bill_matchings dictionary using the bill_key as the key\n",
    "        bill_matchings[bill_key] = bill_windows\n",
    "\n",
    "    return bill_matchings\n"
   ],
   "metadata": {
    "collapsed": false
   }
  },
  {
   "cell_type": "code",
   "execution_count": 0,
   "outputs": [],
   "source": [
    "def match_window_to_date(instance_file, document_file):\n",
    "    with open(document_file, 'r') as f:\n",
    "        document = json.load(f)\n",
    "\n",
    "    with open(instance_file, 'r') as f:\n",
    "        instances = json.load(f)\n",
    "\n",
    "    window_to_date = {}\n",
    "\n",
    "    for instance in instances:\n",
    "        document_id = str(instance['document_id'])\n",
    "        instance_id = instance['instance_id']\n",
    "\n",
    "        article_date = document[document_id]['date']\n",
    "        window_to_date[instance_id] = article_date\n",
    "\n",
    "    with open('../data/window_date_matching.json', 'w') as f:\n",
    "        json.dump(window_to_date, f)"
   ],
   "metadata": {
    "collapsed": false
   }
  },
  {
   "cell_type": "code",
   "execution_count": 38,
   "outputs": [
    {
     "name": "stdout",
     "output_type": "stream",
     "text": [
      "4711\n"
     ]
    }
   ],
   "source": [
    "\n",
    "bills_file = '../data/bill_data.json'\n",
    "\n",
    "nlp = English()\n",
    "tokenizer = nlp.tokenizer\n",
    "\n",
    "# Get all matching terms\n",
    "matching_terms = get_bill_matching(bills_file)\n",
    "\n",
    "# match back on windows\n",
    "instances_file = '../data/all_instances.json'\n",
    "matching_instances = match_instance_to_bill_and_year(instances_file, matching_terms)\n",
    "\n",
    "bill_matchings = match_windows_to_bills(bills_file, matching_instances)\n",
    "\n",
    "# This code will dump the matching of windows to dates. run once.\n",
    "document_file = '../data/documents_bias.json'\n",
    "\n",
    "# match_window_to_date(instances_file, document_file)"
   ],
   "metadata": {
    "collapsed": false
   }
  }
 ],
 "metadata": {
  "kernelspec": {
   "display_name": "Python 3",
   "language": "python",
   "name": "python3"
  },
  "language_info": {
   "codemirror_mode": {
    "name": "ipython",
    "version": 2
   },
   "file_extension": ".py",
   "mimetype": "text/x-python",
   "name": "python",
   "nbconvert_exporter": "python",
   "pygments_lexer": "ipython2",
   "version": "2.7.6"
  }
 },
 "nbformat": 4,
 "nbformat_minor": 0
}
