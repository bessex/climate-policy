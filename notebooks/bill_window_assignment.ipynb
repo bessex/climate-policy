{
 "cells": [
  {
   "cell_type": "markdown",
   "source": [
    "Pull in document instances"
   ],
   "metadata": {
    "collapsed": false
   }
  },
  {
   "cell_type": "code",
   "execution_count": 7,
   "outputs": [],
   "source": [
    "import json\n",
    "from spacy.lang.en import English"
   ],
   "metadata": {
    "collapsed": false
   }
  },
  {
   "cell_type": "markdown",
   "source": [
    "This returns a dictionary of bill ID matched with all possible english representations of the bill so we can match back the windows"
   ],
   "metadata": {
    "collapsed": false
   }
  },
  {
   "cell_type": "code",
   "execution_count": 32,
   "outputs": [],
   "source": [
    "def get_bill_matching(bills_file) -> list:\n",
    "    with open(bills_file, 'r') as f:\n",
    "        bills = json.load(f)\n",
    "\n",
    "    terms = dict()\n",
    "\n",
    "    for bill in bills.values():\n",
    "        bill_number = bill['bill_number']\n",
    "        bill_id = bill['bill_id']\n",
    "        bill_introduced = bill['introduced']\n",
    "        bill_last_action_date = bill['last_action_date']\n",
    "\n",
    "        terms[bill['short_title']] = {'bill_id': bill_id,\n",
    "                                      'introduced': bill_introduced,\n",
    "                                      'last_action_date': bill_last_action_date}\n",
    "\n",
    "        # bill['bill_number'] might look like 'H.R.1' or 'S.312' but we want 'H.R. 1' or 'S. 312'\n",
    "        # if the bill number already has a space after the period, don't add another one\n",
    "        # we can rfind the first period and insert a space after it if necessary\n",
    "\n",
    "        dot_index = bill_number.rfind('.')\n",
    "        if bill_number[dot_index+1] != ' ':\n",
    "            bill_number = bill_number[:dot_index] + '. ' + bill_number[dot_index+1:]\n",
    "\n",
    "        terms[bill_number] = {'bill_id': bill_id,\n",
    "                                      'introduced': bill_introduced,\n",
    "                                      'last_action_date': bill_last_action_date}\n",
    "\n",
    "        # sometimes it's even 'H.RES.' or 'S.RES.'--in these cases we should also\n",
    "        # add 'H. RES.', 'S. RES.', 'H.R.' and 'S.R.'\n",
    "        if 'RES.' in bill_number:\n",
    "            terms[bill_number.replace('RES.', 'R.')] = {'bill_id': bill_id,\n",
    "                                                        'introduced': bill_introduced,\n",
    "                                                        'last_action_date': bill_last_action_date}\n",
    "            terms[bill_number.replace('RES.', ' RES.')] = {'bill_id': bill_id,\n",
    "                                                            'introduced': bill_introduced,\n",
    "                                                            'last_action_date': bill_last_action_date}\n",
    "\n",
    "        # in theory there could be other cases, but we'll just add them manually if we find them\n",
    "\n",
    "        # TODO: for debugging only....\n",
    "        # bill_number_digits = bill_number.split(' ')[-1]\n",
    "        # terms.append(bill_number_digits)\n",
    "\n",
    "    return terms"
   ],
   "metadata": {
    "collapsed": false
   }
  },
  {
   "cell_type": "markdown",
   "source": [],
   "metadata": {
    "collapsed": false
   }
  },
  {
   "cell_type": "code",
   "execution_count": 36,
   "outputs": [],
   "source": [
    "def match_instance_to_bill_and_year(instance_file, matching_terms, tokenizer):\n",
    "    with open(instance_file, 'r') as f:\n",
    "        instances = json.load(f)\n",
    "\n",
    "    matchings = dict()\n",
    "\n",
    "    for instance in instances:\n",
    "        instance_id = instance['instance_id']\n",
    "        term = tokenizer(instance['match'])\n",
    "        matching_bill_id = matching_terms[term]['bill_id']\n",
    "        bill_introduced = matching_terms[term]['introduced']\n",
    "        bill_last = matching_terms[term]['last_action_date']\n",
    "\n",
    "        result = {'bill_id': matching_terms[term]['bill_id'],\n",
    "                  'introduced': matching_terms[term]['introduced'],\n",
    "                  'last_action_date': matching_terms[term]['last_action_date']}\n",
    "\n",
    "        matchings[instance_id] = result\n",
    "\n",
    "    return matchings"
   ],
   "metadata": {
    "collapsed": false
   }
  },
  {
   "cell_type": "code",
   "execution_count": 45,
   "outputs": [
    {
     "ename": "KeyboardInterrupt",
     "evalue": "",
     "output_type": "error",
     "traceback": [
      "\u001B[0;31m---------------------------------------------------------------------------\u001B[0m",
      "\u001B[0;31mKeyboardInterrupt\u001B[0m                         Traceback (most recent call last)",
      "Cell \u001B[0;32mIn[45], line 11\u001B[0m\n\u001B[1;32m      9\u001B[0m \u001B[38;5;66;03m# match back on windows\u001B[39;00m\n\u001B[1;32m     10\u001B[0m instances_file \u001B[38;5;241m=\u001B[39m \u001B[38;5;124m'\u001B[39m\u001B[38;5;124m../data/all_instances.json\u001B[39m\u001B[38;5;124m'\u001B[39m\n\u001B[0;32m---> 11\u001B[0m matching_instances \u001B[38;5;241m=\u001B[39m \u001B[43mmatch_instance_to_bill_and_year\u001B[49m\u001B[43m(\u001B[49m\u001B[43minstances_file\u001B[49m\u001B[43m,\u001B[49m\u001B[43m \u001B[49m\u001B[43mmatching_terms\u001B[49m\u001B[43m,\u001B[49m\u001B[43m \u001B[49m\u001B[43mtokenizer\u001B[49m\u001B[43m)\u001B[49m\n\u001B[1;32m     12\u001B[0m \u001B[38;5;28mprint\u001B[39m(matching_instances)\n",
      "Cell \u001B[0;32mIn[36], line 2\u001B[0m, in \u001B[0;36mmatch_instance_to_bill_and_year\u001B[0;34m(instance_file, matching_terms, tokenizer)\u001B[0m\n\u001B[1;32m      1\u001B[0m \u001B[38;5;28;01mdef\u001B[39;00m \u001B[38;5;21mmatch_instance_to_bill_and_year\u001B[39m(instance_file, matching_terms, tokenizer):\n\u001B[0;32m----> 2\u001B[0m     \u001B[38;5;28;01mwith\u001B[39;00m \u001B[38;5;28;43mopen\u001B[39;49m(instance_file, \u001B[38;5;124m'\u001B[39m\u001B[38;5;124mr\u001B[39m\u001B[38;5;124m'\u001B[39m) \u001B[38;5;28;01mas\u001B[39;00m f:\n\u001B[1;32m      3\u001B[0m         instances \u001B[38;5;241m=\u001B[39m json\u001B[38;5;241m.\u001B[39mload(f)\n\u001B[1;32m      5\u001B[0m     matchings \u001B[38;5;241m=\u001B[39m \u001B[38;5;28mdict\u001B[39m()\n",
      "Cell \u001B[0;32mIn[36], line 2\u001B[0m, in \u001B[0;36mmatch_instance_to_bill_and_year\u001B[0;34m(instance_file, matching_terms, tokenizer)\u001B[0m\n\u001B[1;32m      1\u001B[0m \u001B[38;5;28;01mdef\u001B[39;00m \u001B[38;5;21mmatch_instance_to_bill_and_year\u001B[39m(instance_file, matching_terms, tokenizer):\n\u001B[0;32m----> 2\u001B[0m     \u001B[38;5;28;01mwith\u001B[39;00m \u001B[38;5;28;43mopen\u001B[39;49m(instance_file, \u001B[38;5;124m'\u001B[39m\u001B[38;5;124mr\u001B[39m\u001B[38;5;124m'\u001B[39m) \u001B[38;5;28;01mas\u001B[39;00m f:\n\u001B[1;32m      3\u001B[0m         instances \u001B[38;5;241m=\u001B[39m json\u001B[38;5;241m.\u001B[39mload(f)\n\u001B[1;32m      5\u001B[0m     matchings \u001B[38;5;241m=\u001B[39m \u001B[38;5;28mdict\u001B[39m()\n",
      "File \u001B[0;32m_pydevd_bundle/pydevd_cython_darwin_310_64.pyx:1179\u001B[0m, in \u001B[0;36m_pydevd_bundle.pydevd_cython_darwin_310_64.SafeCallWrapper.__call__\u001B[0;34m()\u001B[0m\n",
      "File \u001B[0;32m_pydevd_bundle/pydevd_cython_darwin_310_64.pyx:620\u001B[0m, in \u001B[0;36m_pydevd_bundle.pydevd_cython_darwin_310_64.PyDBFrame.trace_dispatch\u001B[0;34m()\u001B[0m\n",
      "File \u001B[0;32m_pydevd_bundle/pydevd_cython_darwin_310_64.pyx:1095\u001B[0m, in \u001B[0;36m_pydevd_bundle.pydevd_cython_darwin_310_64.PyDBFrame.trace_dispatch\u001B[0;34m()\u001B[0m\n",
      "File \u001B[0;32m_pydevd_bundle/pydevd_cython_darwin_310_64.pyx:1057\u001B[0m, in \u001B[0;36m_pydevd_bundle.pydevd_cython_darwin_310_64.PyDBFrame.trace_dispatch\u001B[0;34m()\u001B[0m\n",
      "File \u001B[0;32m_pydevd_bundle/pydevd_cython_darwin_310_64.pyx:317\u001B[0m, in \u001B[0;36m_pydevd_bundle.pydevd_cython_darwin_310_64.PyDBFrame.do_wait_suspend\u001B[0;34m()\u001B[0m\n",
      "File \u001B[0;32m/Applications/PyCharm.app/Contents/plugins/python/helpers/pydev/pydevd.py:1160\u001B[0m, in \u001B[0;36mPyDB.do_wait_suspend\u001B[0;34m(self, thread, frame, event, arg, send_suspend_message, is_unhandled_exception)\u001B[0m\n\u001B[1;32m   1157\u001B[0m         from_this_thread\u001B[38;5;241m.\u001B[39mappend(frame_id)\n\u001B[1;32m   1159\u001B[0m \u001B[38;5;28;01mwith\u001B[39;00m \u001B[38;5;28mself\u001B[39m\u001B[38;5;241m.\u001B[39m_threads_suspended_single_notification\u001B[38;5;241m.\u001B[39mnotify_thread_suspended(thread_id, stop_reason):\n\u001B[0;32m-> 1160\u001B[0m     \u001B[38;5;28;43mself\u001B[39;49m\u001B[38;5;241;43m.\u001B[39;49m\u001B[43m_do_wait_suspend\u001B[49m\u001B[43m(\u001B[49m\u001B[43mthread\u001B[49m\u001B[43m,\u001B[49m\u001B[43m \u001B[49m\u001B[43mframe\u001B[49m\u001B[43m,\u001B[49m\u001B[43m \u001B[49m\u001B[43mevent\u001B[49m\u001B[43m,\u001B[49m\u001B[43m \u001B[49m\u001B[43marg\u001B[49m\u001B[43m,\u001B[49m\u001B[43m \u001B[49m\u001B[43msuspend_type\u001B[49m\u001B[43m,\u001B[49m\u001B[43m \u001B[49m\u001B[43mfrom_this_thread\u001B[49m\u001B[43m)\u001B[49m\n",
      "File \u001B[0;32m/Applications/PyCharm.app/Contents/plugins/python/helpers/pydev/pydevd.py:1175\u001B[0m, in \u001B[0;36mPyDB._do_wait_suspend\u001B[0;34m(self, thread, frame, event, arg, suspend_type, from_this_thread)\u001B[0m\n\u001B[1;32m   1172\u001B[0m             \u001B[38;5;28mself\u001B[39m\u001B[38;5;241m.\u001B[39m_call_mpl_hook()\n\u001B[1;32m   1174\u001B[0m         \u001B[38;5;28mself\u001B[39m\u001B[38;5;241m.\u001B[39mprocess_internal_commands()\n\u001B[0;32m-> 1175\u001B[0m         \u001B[43mtime\u001B[49m\u001B[38;5;241;43m.\u001B[39;49m\u001B[43msleep\u001B[49m\u001B[43m(\u001B[49m\u001B[38;5;241;43m0.01\u001B[39;49m\u001B[43m)\u001B[49m\n\u001B[1;32m   1177\u001B[0m \u001B[38;5;28mself\u001B[39m\u001B[38;5;241m.\u001B[39mcancel_async_evaluation(get_current_thread_id(thread), \u001B[38;5;28mstr\u001B[39m(\u001B[38;5;28mid\u001B[39m(frame)))\n\u001B[1;32m   1179\u001B[0m \u001B[38;5;66;03m# process any stepping instructions\u001B[39;00m\n",
      "\u001B[0;31mKeyboardInterrupt\u001B[0m: "
     ]
    }
   ],
   "source": [
    "bills_file = '../data/bill_data.json'\n",
    "\n",
    "nlp = English()\n",
    "tokenizer = nlp.tokenizer\n",
    "\n",
    "# Get all matching terms\n",
    "matching_terms = get_bill_matching(bills_file)\n",
    "\n",
    "# match back on windows\n",
    "instances_file = '../data/all_instances.json'\n",
    "matching_instances = match_instance_to_bill_and_year(instances_file, matching_terms, tokenizer)\n",
    "print(matching_instances)\n"
   ],
   "metadata": {
    "collapsed": false
   }
  }
 ],
 "metadata": {
  "kernelspec": {
   "display_name": "Python 3",
   "language": "python",
   "name": "python3"
  },
  "language_info": {
   "codemirror_mode": {
    "name": "ipython",
    "version": 2
   },
   "file_extension": ".py",
   "mimetype": "text/x-python",
   "name": "python",
   "nbconvert_exporter": "python",
   "pygments_lexer": "ipython2",
   "version": "2.7.6"
  }
 },
 "nbformat": 4,
 "nbformat_minor": 0
}
