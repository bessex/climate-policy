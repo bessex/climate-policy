{
 "cells": [
  {
   "cell_type": "raw",
   "source": [],
   "metadata": {
    "collapsed": false,
    "pycharm": {
     "name": ""
    }
   }
  },
  {
   "cell_type": "code",
   "execution_count": null,
   "outputs": [],
   "source": [],
   "metadata": {
    "collapsed": false
   }
  },
  {
   "cell_type": "code",
   "execution_count": 1,
   "metadata": {
    "collapsed": true,
    "ExecuteTime": {
     "start_time": "2023-04-11T15:13:15.245511Z",
     "end_time": "2023-04-11T15:13:15.310867Z"
    }
   },
   "outputs": [
    {
     "name": "stdout",
     "output_type": "stream",
     "text": [
      "Formatting allsides_data.csv... Done\n",
      "Formatting bill_keywords.txt... Done\n",
      "Formatting gold_50.json... Done\n",
      "Formatting gold_emma.json... Done\n",
      "Formatting gold_new.json... Done\n",
      "Formatting source_bias.json... Done\n",
      "Formatting story_keywords.txt... Done\n",
      "Formatting training.json... Done\n",
      "Formatting training_50.json... Done\n",
      "Formatting training_new_emma.json... Done\n"
     ]
    }
   ],
   "source": [
    "import os\n",
    "import json\n",
    "\n",
    "json_dir = '../models/'\n",
    "\n",
    "# Go through each of the .json files and reformat with indentation\n",
    "for file in os.listdir(json_dir):\n",
    "    print('Formatting ' + file + '...', end=' ')\n",
    "    if file.endswith(\".json\"):\n",
    "        with open(os.path.join(json_dir, file), 'r') as f:\n",
    "            data = json.load(f)\n",
    "        with open(os.path.join(json_dir, file), 'w') as f:\n",
    "            json.dump(data, f, indent=4)\n",
    "    print('Done')"
   ]
  }
 ],
 "metadata": {
  "kernelspec": {
   "display_name": "Python 3",
   "language": "python",
   "name": "python3"
  },
  "language_info": {
   "codemirror_mode": {
    "name": "ipython",
    "version": 2
   },
   "file_extension": ".py",
   "mimetype": "text/x-python",
   "name": "python",
   "nbconvert_exporter": "python",
   "pygments_lexer": "ipython2",
   "version": "2.7.6"
  }
 },
 "nbformat": 4,
 "nbformat_minor": 0
}
