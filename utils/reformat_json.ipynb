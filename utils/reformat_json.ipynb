{
 "cells": [
  {
   "cell_type": "raw",
   "source": [],
   "metadata": {
    "collapsed": false,
    "pycharm": {
     "name": ""
    }
   }
  },
  {
   "cell_type": "markdown",
   "source": [
    "Reformat JSON files for good indentation."
   ],
   "metadata": {
    "collapsed": false
   }
  },
  {
   "cell_type": "code",
   "execution_count": null,
   "outputs": [],
   "source": [],
   "metadata": {
    "collapsed": false
   }
  },
  {
   "cell_type": "code",
   "execution_count": 2,
   "metadata": {
    "collapsed": true,
    "ExecuteTime": {
     "start_time": "2023-04-11T15:42:08.060594Z",
     "end_time": "2023-04-11T15:42:14.751246Z"
    }
   },
   "outputs": [
    {
     "name": "stdout",
     "output_type": "stream",
     "text": [
      "Formatting all_instances.json... Done\n",
      "Formatting all_windows.json... Done\n",
      "Formatting all_windows_classified.json... Done\n",
      "Formatting bill_data.json... Done\n",
      "Formatting bill_ids.txt... Done\n",
      "Formatting bill_keywords.txt... Done\n",
      "Formatting bill_subjects.txt... Done\n",
      "Formatting documents_1.json... Done\n",
      "Formatting documents_2.json... Done\n",
      "Formatting documents_3.json... Done\n",
      "Formatting documents_bias.json... Done\n"
     ]
    }
   ],
   "source": [
    "import os\n",
    "import json\n",
    "\n",
    "json_dir = '../data/'\n",
    "\n",
    "# Go through each of the .json files and reformat with indentation\n",
    "for file in os.listdir(json_dir):\n",
    "    print('Formatting ' + file + '...', end=' ')\n",
    "    if file.endswith(\".json\"):\n",
    "        with open(os.path.join(json_dir, file), 'r') as f:\n",
    "            data = json.load(f)\n",
    "        with open(os.path.join(json_dir, file), 'w') as f:\n",
    "            json.dump(data, f, indent=2)\n",
    "    print('Done')"
   ]
  }
 ],
 "metadata": {
  "kernelspec": {
   "display_name": "Python 3",
   "language": "python",
   "name": "python3"
  },
  "language_info": {
   "codemirror_mode": {
    "name": "ipython",
    "version": 2
   },
   "file_extension": ".py",
   "mimetype": "text/x-python",
   "name": "python",
   "nbconvert_exporter": "python",
   "pygments_lexer": "ipython2",
   "version": "2.7.6"
  }
 },
 "nbformat": 4,
 "nbformat_minor": 0
}
